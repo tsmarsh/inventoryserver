{
 "cells": [
  {
   "cell_type": "markdown",
   "metadata": {},
   "source": [
    "# Inventory Server"
   ]
  },
  {
   "cell_type": "markdown",
   "metadata": {},
   "source": [
    "A common feature of online games is the 'inventory' which provides a list of all of the items 'owned' by an object.\n",
    "\n",
    "It is frequently used in MMOs.\n",
    "\n",
    "This project attempts to make scaling this service easier by making the developer work a little harder up front, by using persistent objects. The expected out come is that the datastore is significantly smaller, due to massive inventory and item reuse. Another benefit is caching, the majority of calls to the service can be cached indefinitely.\n",
    "\n",
    "The service provides the notions of\n",
    "\n",
    "* A user: A root object that has a collection of inventories\n",
    "* An inventory: Items that can be collected under a single category, eg: Player attributes, achievements, rock collection\n",
    "* A metric: A datum in an inventory, eg: First name, Sword of Justice\n",
    "\n"
   ]
  },
  {
   "cell_type": "code",
   "execution_count": null,
   "metadata": {},
   "outputs": [],
   "source": [
    "import graphviz\n",
    "\n",
    "d = graphviz.Digraph()\n",
    "d.node(\"Inventory\")\n",
    "d.node(\"User\")\n",
    "d.node(\"Category\")\n",
    "d.node(\"Metric\")\n",
    "d.node(\"Value\")\n",
    "d.edge(\"User\", \"Inventory\", \"*:1\")\n",
    "d.edge(\"Category\", \"Inventory\", \"*:1\")\n",
    "d.edge(\"Category\", \"Category\", \"parent\")\n",
    "d.edge(\"Inventory\", \"Metric\", \"*:*\")\n",
    "d.edge(\"Value\", \"Metric\", \"*:1\")\n",
    "d"
   ]
  },
  {
   "cell_type": "markdown",
   "metadata": {},
   "source": [
    "But isn't that a bit backwards in places?\n",
    "\n",
    "Well, one of the things we found building out games was that there is a lot of repetition. Players have very similar patterns and pick up similar items. For a moderately sized poker simulation we rapidly started to approach gigabytes of data that compressed to almost nothing, which gave us the idea to reuse identical objects. \n",
    "\n",
    "InventoryServer uses SHA1 to for all identification, so if a category already exists, it is not recreated. We'll explore that a little closer with examples further into this document.\n",
    "\n",
    "First lets build the server."
   ]
  },
  {
   "cell_type": "markdown",
   "metadata": {},
   "source": [
    "## Build\n",
    "\n",
    "The API was designed to be persistence agnostic. At the momement we have implementions for in memory (essentially a hashmap) and JPA.\n",
    "\n",
    "Why maintain two storage engines?\n",
    "\n",
    "Similarly to having tests in both Python and Java they exposed different bugs and have different virtues. For demonstrating the API and running unit tests, the memory server is ideal.\n",
    "\n",
    "Let us build it."
   ]
  },
  {
   "cell_type": "code",
   "execution_count": null,
   "metadata": {},
   "outputs": [],
   "source": [
    "%%bash\n",
    "\n",
    "mvn clean package"
   ]
  },
  {
   "cell_type": "code",
   "execution_count": null,
   "metadata": {},
   "outputs": [],
   "source": [
    "%%html\n",
    "<iframe src=\"core/target/site/jacoco/index.html\" width=\"100%\" height=\"300px\"/>"
   ]
  },
  {
   "cell_type": "code",
   "execution_count": null,
   "metadata": {},
   "outputs": [],
   "source": [
    "%%html\n",
    "<iframe src=\"memory/target/site/jacoco/index.html\" width=\"100%\" height=\"300px\"/>"
   ]
  },
  {
   "cell_type": "code",
   "execution_count": null,
   "metadata": {},
   "outputs": [],
   "source": [
    "%%html\n",
    "<iframe src=\"jpa/target/site/jacoco/index.html\" width=\"100%\" height=\"300px\"/>"
   ]
  },
  {
   "cell_type": "markdown",
   "metadata": {},
   "source": [
    "## Deploy to AWS"
   ]
  },
  {
   "cell_type": "markdown",
   "metadata": {},
   "source": [
    "You need to put your AWS credentials in the variables below for this to work.\n",
    "\n",
    "These credentials must have:\n",
    "\n",
    "* AmazonEC2FullAccess\n",
    "* AmazonVPCFullAccess\n",
    "\n",
    "To create Security Groups, an ELB, a VPC, an internet gateway and an EC2 instance. \n",
    "\n",
    "Full details can be seen in the [terraform](deploy-memory/memory.tf)\n",
    "\n",
    "*DO NOT CHECK IN YOUR TOKENS*"
   ]
  },
  {
   "cell_type": "code",
   "execution_count": null,
   "metadata": {},
   "outputs": [],
   "source": [
    "%env AWS_ACCESS_KEY=<ACCESS KEY HERE>\n",
    "%env AWS_SECRET_KEY=<SECRET KEY HERE>"
   ]
  },
  {
   "cell_type": "code",
   "execution_count": null,
   "metadata": {},
   "outputs": [],
   "source": [
    "%%bash\n",
    "pushd deploy-memory\n",
    "terraform apply -auto-approve -var \"aws_access_key=$AWS_ACCESS_KEY\" -var \"aws_secret_key=$AWS_SECRET_KEY\""
   ]
  },
  {
   "cell_type": "code",
   "execution_count": null,
   "metadata": {},
   "outputs": [],
   "source": [
    "%%bash\n",
    "pushd deploy-memory\n",
    "terraform output ip > ip.txt"
   ]
  },
  {
   "cell_type": "markdown",
   "metadata": {},
   "source": [
    "That should have started an EC2 instance on AWS with the server you created. Now we're going to generate a client and some documentation using swagger."
   ]
  },
  {
   "cell_type": "markdown",
   "metadata": {},
   "source": [
    "## Service Tests"
   ]
  },
  {
   "cell_type": "code",
   "execution_count": null,
   "metadata": {
    "scrolled": true
   },
   "outputs": [],
   "source": [
    "%%bash\n",
    "rm -rf inventory_server/\n",
    "rm -rf temp\n",
    "mkdir temp\n",
    "cd temp\n",
    "swagger-codegen generate -l python -i ../meta/src/main/docs/swagger.yml\n",
    "swagger-codegen generate -l html -i ../meta/src/main/docs/swagger.yml\n",
    "mv swagger_client ../inventory_server\n",
    "cd ..\n"
   ]
  },
  {
   "cell_type": "markdown",
   "metadata": {},
   "source": [
    "So what did that do?\n",
    "\n",
    "It took [`swagger.yml`](meta/src/main/docs/swagger.yml) and compiled it into a native python client that we will use for our tests. We use the same yaml to generate the Java client that is the output of the `meta` module, which is used by the Java service tests. \n",
    "\n",
    "We use that swagger file to define the API and generate this documentation:"
   ]
  },
  {
   "cell_type": "code",
   "execution_count": null,
   "metadata": {
    "scrolled": false
   },
   "outputs": [],
   "source": [
    "%%html\n",
    "<iframe src=\"temp/index.html\" width=\"100%\" height=\"300px\"/>"
   ]
  },
  {
   "cell_type": "markdown",
   "metadata": {},
   "source": [
    "Why do we like swagger?\n",
    "\n",
    "It allows us to provably document our API. If you change the swagger in the `meta` module the tests in this file may fail, as may the Java unit tests, which also use swagger to generate clients.\n"
   ]
  },
  {
   "cell_type": "markdown",
   "metadata": {},
   "source": [
    "Excellent. Now we're going to use the API that we defined with Swagger to interact with the service. "
   ]
  },
  {
   "cell_type": "code",
   "execution_count": null,
   "metadata": {},
   "outputs": [],
   "source": [
    "from inventory_server.configuration import Configuration\n",
    "from inventory_server.apis import DefaultApi\n",
    "import os\n",
    "\n",
    "conf = Configuration()\n",
    "conf.host = \"http://%s:5555\" % open(\"deploy-memory/ip.txt\", \"r\").read().strip()\n",
    "api = DefaultApi()\n"
   ]
  },
  {
   "cell_type": "markdown",
   "metadata": {},
   "source": [
    "Let us see what we have in the stored."
   ]
  },
  {
   "cell_type": "code",
   "execution_count": null,
   "metadata": {},
   "outputs": [],
   "source": [
    "inventories = api.all_inventories()\n",
    "\n",
    "if 0 != len(inventories):\n",
    "    raise Exception(\"Try clearing the DB by restarting the service\")\n"
   ]
  },
  {
   "cell_type": "markdown",
   "metadata": {},
   "source": [
    "Nothing! Thats not that surprising as the database should always start empty (its ephemeral).\n",
    "\n",
    "Lets create and store our first inventory."
   ]
  },
  {
   "cell_type": "code",
   "execution_count": null,
   "metadata": {},
   "outputs": [],
   "source": [
    "from inventory_server.models.inventory import Inventory\n",
    "\n",
    "inventory = Inventory(category = \"test.category\")\n",
    "\n",
    "api.create_inventory(inventory)\n",
    "\n"
   ]
  },
  {
   "cell_type": "markdown",
   "metadata": {},
   "source": [
    "That was easy! \n",
    "\n",
    "But... did it work?"
   ]
  },
  {
   "cell_type": "code",
   "execution_count": null,
   "metadata": {},
   "outputs": [],
   "source": [
    "moreInventories = api.all_inventories()\n",
    "\n",
    "if \"test.category\" != moreInventories[0].category:\n",
    "    raise Exception(\"Found \")"
   ]
  },
  {
   "cell_type": "markdown",
   "metadata": {},
   "source": [
    "Hopefully we found the inventory. Excellent!\n",
    "\n",
    "OK. On to users. "
   ]
  },
  {
   "cell_type": "code",
   "execution_count": null,
   "metadata": {},
   "outputs": [],
   "source": [
    "from inventory_server.models.user import User\n",
    "\n",
    "user = User(name = \"Tilda\")\n",
    "\n",
    "saved = api.create_user(user)\n",
    "\n",
    "if \"Tilda\" != saved.name:\n",
    "    raise Exception(\"The user has the wrong name\")\n",
    "\n",
    "users = api.all_users()\n",
    "\n",
    "if \"Tilda\" != users[0].name:\n",
    "    raise Exception(\"The user is missing from all users\")"
   ]
  },
  {
   "cell_type": "markdown",
   "metadata": {},
   "source": [
    "So we proved we can create a user."
   ]
  },
  {
   "cell_type": "code",
   "execution_count": null,
   "metadata": {},
   "outputs": [],
   "source": [
    "from inventory_server.models.metric import Metric\n",
    "\n",
    "metric = Metric(type=\"arrows\", value=\"34\")\n",
    "\n",
    "inventory = Inventory(category=\"test.flarp\", metrics=[metric])\n",
    "\n",
    "user = User(name=\"Archer\")\n",
    "\n",
    "archer = api.update_inventory_for_user(\"Archer\", \"test.flarp\", inventory)\n",
    "if \"test.flarp\" != archer.category:\n",
    "    raise Exception(\"We didn't update the user\")\n",
    "\n",
    "savedArcher = api.find_latest_user(\"Archer\")\n",
    "if \"test.flarp\" != savedArcher.inventories[0].category:\n",
    "    raise Exception(\"The lastest version of Archer is not updated correctly\")"
   ]
  },
  {
   "cell_type": "markdown",
   "metadata": {},
   "source": [
    "Now we're getting a little more realistic. A user, with an inventory and a metric."
   ]
  },
  {
   "cell_type": "code",
   "execution_count": null,
   "metadata": {},
   "outputs": [],
   "source": [
    "metric = Metric(type=\"arrows\", value=\"34\")\n",
    "\n",
    "inventory = Inventory(category=\"test.flarp\", metrics=[metric])\n",
    "\n",
    "metric2 = Metric(type=\"Bows\", value=\"1\")\n",
    "\n",
    "inventory2 = Inventory(category=\"test.floop\", metrics=[metric2])\n",
    "\n",
    "user = User(name=\"Archer\")\n",
    "\n",
    "api.create_user(user)\n",
    "\n",
    "inv1 = api.update_inventory_for_user(\"Archer\", \"test.flarp\", inventory)\n",
    "inv2 = api.update_inventory_for_user(\"Archer\", \"test.floop\", inventory2)\n",
    "\n",
    "inventories = api.all_inventories_for_user(\"Archer\")\n",
    "if 1 != len([x for x in inventories if x.category == \"test.flarp\"]):\n",
    "    raise Exception(\"You're missing the test.flarp category\")\n",
    "    \n",
    "if 1 != len([x for x in inventories if x.category == \"test.floop\"]):\n",
    "    raise Exception(\"You're missing the test.floop category\")"
   ]
  },
  {
   "cell_type": "markdown",
   "metadata": {},
   "source": [
    "And finally, one user, two metrics and a couple of inventories. "
   ]
  },
  {
   "cell_type": "markdown",
   "metadata": {},
   "source": [
    "## TODO\n",
    "\n",
    "1. Demonstrate the same tests for the JPA / RDS version of the server\n",
    "2. Provide performance benchmarks and graphs"
   ]
  },
  {
   "cell_type": "code",
   "execution_count": null,
   "metadata": {},
   "outputs": [],
   "source": []
  }
 ],
 "metadata": {
  "kernelspec": {
   "display_name": "Python 3",
   "language": "python",
   "name": "python3"
  },
  "language_info": {
   "codemirror_mode": {
    "name": "ipython",
    "version": 3
   },
   "file_extension": ".py",
   "mimetype": "text/x-python",
   "name": "python",
   "nbconvert_exporter": "python",
   "pygments_lexer": "ipython3",
   "version": "3.6.2"
  }
 },
 "nbformat": 4,
 "nbformat_minor": 2
}
